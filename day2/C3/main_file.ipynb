{
 "cells": [
  {
   "cell_type": "code",
   "execution_count": 1,
   "metadata": {},
   "outputs": [],
   "source": [
    "import xlwings as xw \n",
    "from sklearn import datasets\n",
    "import pandas as pd\n",
    "import numpy as np\n",
    "import utils as ut\n",
    "import matplotlib.pyplot as plt \n",
    "\n",
    "% matplotlib inline"
   ]
  },
  {
   "cell_type": "markdown",
   "metadata": {},
   "source": [
    "## Visualise univariate data\n",
    "\n",
    "### Extract Data \n",
    "Copy the data from excel and check for the first 5 rows"
   ]
  },
  {
   "cell_type": "code",
   "execution_count": 6,
   "metadata": {},
   "outputs": [
    {
     "data": {
      "text/html": [
       "<div>\n",
       "<style scoped>\n",
       "    .dataframe tbody tr th:only-of-type {\n",
       "        vertical-align: middle;\n",
       "    }\n",
       "\n",
       "    .dataframe tbody tr th {\n",
       "        vertical-align: top;\n",
       "    }\n",
       "\n",
       "    .dataframe thead th {\n",
       "        text-align: right;\n",
       "    }\n",
       "</style>\n",
       "<table border=\"1\" class=\"dataframe\">\n",
       "  <thead>\n",
       "    <tr style=\"text-align: right;\">\n",
       "      <th></th>\n",
       "      <th>X</th>\n",
       "      <th>y</th>\n",
       "    </tr>\n",
       "  </thead>\n",
       "  <tbody>\n",
       "    <tr>\n",
       "      <th>0</th>\n",
       "      <td>0.433377</td>\n",
       "      <td>2.041898</td>\n",
       "    </tr>\n",
       "    <tr>\n",
       "      <th>1</th>\n",
       "      <td>0.378328</td>\n",
       "      <td>1.408507</td>\n",
       "    </tr>\n",
       "    <tr>\n",
       "      <th>2</th>\n",
       "      <td>0.179826</td>\n",
       "      <td>0.555435</td>\n",
       "    </tr>\n",
       "    <tr>\n",
       "      <th>3</th>\n",
       "      <td>0.433074</td>\n",
       "      <td>2.002243</td>\n",
       "    </tr>\n",
       "    <tr>\n",
       "      <th>4</th>\n",
       "      <td>0.043973</td>\n",
       "      <td>0.961575</td>\n",
       "    </tr>\n",
       "  </tbody>\n",
       "</table>\n",
       "</div>"
      ],
      "text/plain": [
       "          X         y\n",
       "0  0.433377  2.041898\n",
       "1  0.378328  1.408507\n",
       "2  0.179826  0.555435\n",
       "3  0.433074  2.002243\n",
       "4  0.043973  0.961575"
      ]
     },
     "execution_count": 6,
     "metadata": {},
     "output_type": "execute_result"
    }
   ],
   "source": [
    "input_data = xw.sheets('univariate_data').range('b6:c107').options(pd.DataFrame,index = False).value\n",
    "input_data.head()"
   ]
  },
  {
   "cell_type": "markdown",
   "metadata": {},
   "source": [
    "## Visualisation"
   ]
  },
  {
   "cell_type": "markdown",
   "metadata": {},
   "source": [
    "Visualise how different choices of slopes and intercepts will affect the prediction errors"
   ]
  },
  {
   "cell_type": "code",
   "execution_count": 7,
   "metadata": {},
   "outputs": [
    {
     "data": {
      "application/vnd.jupyter.widget-view+json": {
       "model_id": "874b69d291854482b463e683ff648403",
       "version_major": 2,
       "version_minor": 0
      },
      "text/plain": [
       "VBox(children=(VBox(children=(FloatSlider(value=0.0, description='m', max=5.0, step=0.25), FloatSlider(value=0…"
      ]
     },
     "metadata": {},
     "output_type": "display_data"
    }
   ],
   "source": [
    "import imp \n",
    "imp.reload(ut)\n",
    "ut.get_linreg_interactive(input_data)"
   ]
  },
  {
   "cell_type": "markdown",
   "metadata": {},
   "source": [
    "## Find slope m and intercept c\n"
   ]
  },
  {
   "cell_type": "markdown",
   "metadata": {},
   "source": [
    "There is a functionality in Python which allows us to find $m$ and $c$ which minimize the error"
   ]
  },
  {
   "cell_type": "code",
   "execution_count": 8,
   "metadata": {},
   "outputs": [
    {
     "name": "stdout",
     "output_type": "stream",
     "text": [
      "m : [2.52597752] and c : 0.5501250398842417\n"
     ]
    }
   ],
   "source": [
    "from sklearn.linear_model import LinearRegression\n",
    "\n",
    "lr = LinearRegression() \n",
    "lr.fit(input_data['X'].values.reshape(-1,1),input_data['y'])\n",
    "\n",
    "print('m : {} and c : {}'.format(lr.coef_,lr.intercept_))\n"
   ]
  },
  {
   "cell_type": "markdown",
   "metadata": {},
   "source": [
    "# Gradient Descent with one variable"
   ]
  },
  {
   "cell_type": "markdown",
   "metadata": {},
   "source": [
    "Suppose that we want to find the minimizer of a quadratic function $f(x) = x^2 - 6x + 5 $ using gradient descent algorithm. We know that the first derivative of this function is $Df(x) = 2x-6$. Using this information, we can write a little script."
   ]
  },
  {
   "cell_type": "code",
   "execution_count": 14,
   "metadata": {},
   "outputs": [
    {
     "name": "stdout",
     "output_type": "stream",
     "text": [
      "2.9959435180792697\n"
     ]
    }
   ],
   "source": [
    "import numpy as np \n",
    "\n",
    "f = lambda x: x**2 - 6*x + 5\n",
    "Df = lambda x: 2*x - 6\n",
    "\n",
    "x0 = -5 # initial value of the algorithm \n",
    "nu = 0.1 # learning rate\n",
    "\n",
    "while True:     \n",
    "    x1 = x0 - nu * Df(x0)\n",
    "    \n",
    "    if np.abs(x1-x0) < 0.001:\n",
    "        break\n",
    "    else:\n",
    "        x0 = x1\n",
    "\n",
    "print(x0)"
   ]
  },
  {
   "cell_type": "code",
   "execution_count": 47,
   "metadata": {},
   "outputs": [
    {
     "data": {
      "text/plain": [
       "[<matplotlib.lines.Line2D at 0x1a1a500668>]"
      ]
     },
     "execution_count": 47,
     "metadata": {},
     "output_type": "execute_result"
    },
    {
     "data": {
      "image/png": "[encoded data removed]",
      "text/plain": [
       "<Figure size 432x288 with 1 Axes>"
      ]
     },
     "metadata": {},
     "output_type": "display_data"
    }
   ],
   "source": [
    "import numpy as np\n",
    "\n",
    "nobs = 100 \n",
    "x = np.random.randn(100) \n",
    "\n",
    "a = 2.5 \n",
    "b = 0.5 \n",
    "sig = 0.5 \n",
    "y = a*x + b + sig*np.random.randn(100)\n",
    "\n",
    "plt.plot(x,y,'o')\n"
   ]
  },
  {
   "cell_type": "code",
   "execution_count": 43,
   "metadata": {},
   "outputs": [
    {
     "name": "stdout",
     "output_type": "stream",
     "text": [
      "a : 2.513206051039314 and b : 0.5565081444364157\n"
     ]
    }
   ],
   "source": [
    "y = input_data['y']\n",
    "x = input_data['X']\n",
    "\n",
    "\n",
    "J = lambda a,b : 0.5 * np.sum( (y-(a*x+b))**2 )\n",
    "\n",
    "Ja = lambda a,b : np.sum( (y-(a*x+b))*(-x) )\n",
    "Jb = lambda a,b : np.sum( (y-(a*x+b))*(-1) )\n",
    "\n",
    "\n",
    "a0 = -2 \n",
    "b0 = -2\n",
    "\n",
    "nu = 0.01\n",
    "\n",
    "while True: \n",
    "    a = a0 - nu * Ja(a0,b0)\n",
    "    b = b0 - nu * Jb(a0,b0)\n",
    "    \n",
    "    if np.sqrt( (a-a0)**2 + (b-b0)**2 ) < 0.001: \n",
    "        break\n",
    "    else: \n",
    "        a0 = a\n",
    "        b0 = b \n",
    "\n",
    "print('a : {} and b : {}'.format(a0,b0))\n"
   ]
  },
  {
   "cell_type": "markdown",
   "metadata": {},
   "source": [
    "# Gradient descent with two variables (original problem)"
   ]
  },
  {
   "cell_type": "markdown",
   "metadata": {},
   "source": [
    "## Can we check the numerical results analytically?"
   ]
  },
  {
   "cell_type": "code",
   "execution_count": 34,
   "metadata": {},
   "outputs": [
    {
     "data": {
      "text/plain": [
       "matrix([[2.52597752],\n",
       "        [0.55012504]])"
      ]
     },
     "execution_count": 34,
     "metadata": {},
     "output_type": "execute_result"
    }
   ],
   "source": [
    "v1 = input_data['X'].values.reshape(-1,1)\n",
    "v2 = np.ones(len(v1))\n",
    "\n",
    "X = np.matrix(np.c_[v1,v2])\n",
    "y = np.matrix(input_data['y']).T\n",
    "\n",
    "params = np.linalg.inv(X.T*X)*X.T*y\n",
    "params\n"
   ]
  },
  {
   "cell_type": "code",
   "execution_count": null,
   "metadata": {},
   "outputs": [],
   "source": [
    "\n",
    "\n"
   ]
  },
  {
   "cell_type": "markdown",
   "metadata": {},
   "source": [
    "## Exercises"
   ]
  },
  {
   "cell_type": "markdown",
   "metadata": {},
   "source": [
    "## Estimating regression coefficients from real dataset\n",
    "\n",
    "Can you calculate the regression coefficients from a real dataset manually without using any standard library? "
   ]
  },
  {
   "cell_type": "code",
   "execution_count": 49,
   "metadata": {},
   "outputs": [],
   "source": [
    "raw_data = ut.get_boston_data()\n"
   ]
  },
  {
   "cell_type": "code",
   "execution_count": 54,
   "metadata": {},
   "outputs": [],
   "source": [
    "X = raw_data.drop(['target'],axis =1 ).values \n",
    "y = raw_data['target'].values\n",
    "\n",
    "from sklearn import linear_model\n",
    "\n",
    "lr = linear_model.\n"
   ]
  },
  {
   "cell_type": "code",
   "execution_count": null,
   "metadata": {},
   "outputs": [],
   "source": []
  },
  {
   "cell_type": "code",
   "execution_count": null,
   "metadata": {},
   "outputs": [],
   "source": [
    "\n"
   ]
  }
 ],
 "metadata": {
  "kernelspec": {
   "display_name": "Python 3",
   "language": "python",
   "name": "python3"
  },
  "language_info": {
   "codemirror_mode": {
    "name": "ipython",
    "version": 3
   },
   "file_extension": ".py",
   "mimetype": "text/x-python",
   "name": "python",
   "nbconvert_exporter": "python",
   "pygments_lexer": "ipython3",
   "version": "3.6.5"
  }
 },
 "nbformat": 4,
 "nbformat_minor": 2
}
